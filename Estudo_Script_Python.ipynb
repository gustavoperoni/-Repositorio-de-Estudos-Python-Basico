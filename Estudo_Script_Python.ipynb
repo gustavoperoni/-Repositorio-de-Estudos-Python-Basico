{
  "nbformat": 4,
  "nbformat_minor": 0,
  "metadata": {
    "colab": {
      "provenance": [],
      "toc_visible": true,
      "authorship_tag": "ABX9TyOOpk5u7QsuFZew6xRHhC8J",
      "include_colab_link": true
    },
    "kernelspec": {
      "name": "python3",
      "display_name": "Python 3"
    },
    "language_info": {
      "name": "python"
    }
  },
  "cells": [
    {
      "cell_type": "markdown",
      "metadata": {
        "id": "view-in-github",
        "colab_type": "text"
      },
      "source": [
        "<a href=\"https://colab.research.google.com/github/gustavoperoni/-Repositorio-de-Estudos-Python-Basico/blob/main/Estudo_Script_Python.ipynb\" target=\"_parent\"><img src=\"https://colab.research.google.com/assets/colab-badge.svg\" alt=\"Open In Colab\"/></a>"
      ]
    },
    {
      "cell_type": "code",
      "execution_count": null,
      "metadata": {
        "id": "xc0F71Fww05w"
      },
      "outputs": [],
      "source": []
    },
    {
      "cell_type": "markdown",
      "source": [
        "# Módulo 1 - Programação em Python"
      ],
      "metadata": {
        "id": "1VEUXgK71RWk"
      }
    },
    {
      "cell_type": "markdown",
      "source": [
        "# **1. - Sintaxe básica** <p>\n",
        "Podemos utilziar ' ' (aspas simples) <p>\n",
        "Podemos utilziar \" \" (aspas duplas) <p>\n",
        "Utilizando o \\n para pular uma linha na impressão do valor <p>\n",
        "Usamos o hastgag # para comentar algo"
      ],
      "metadata": {
        "id": "3Cp5ggGS16ar"
      }
    },
    {
      "cell_type": "code",
      "source": [
        "# Sintaxe básica\n",
        "print('Olá Mundo! \\n')\n",
        "print(\"Olá Mundo!\")"
      ],
      "metadata": {
        "colab": {
          "base_uri": "https://localhost:8080/"
        },
        "id": "Aap4cNIl2IZC",
        "outputId": "ee86962f-a496-4740-c319-e495ea3bb6ab"
      },
      "execution_count": null,
      "outputs": [
        {
          "output_type": "stream",
          "name": "stdout",
          "text": [
            "Olá Mundo! \n",
            "\n",
            "Olá Mundo!\n"
          ]
        }
      ]
    },
    {
      "cell_type": "markdown",
      "source": [
        "#2º  Operadores matemáticos <p>\n",
        "Os operadores são usados ​​para realizar operações em variáveis ​​e valores:\n",
        "1. Soma\n",
        "2. Subtração\n",
        "3. Multiplicação\n",
        "4. Divisão\n",
        "5. Exponenciação\n",
        "6. Resto da Divisão\n",
        "7. Divisão de Chão"
      ],
      "metadata": {
        "id": "8FzV9HBG3H-h"
      }
    },
    {
      "cell_type": "code",
      "source": [
        "# Soma\n",
        "1 + 3 + 4"
      ],
      "metadata": {
        "colab": {
          "base_uri": "https://localhost:8080/"
        },
        "id": "kfdSO0Y-3i_0",
        "outputId": "5959b5f3-3a20-4287-fccc-d6b6dc20ad07"
      },
      "execution_count": null,
      "outputs": [
        {
          "output_type": "execute_result",
          "data": {
            "text/plain": [
              "8"
            ]
          },
          "metadata": {},
          "execution_count": 14
        }
      ]
    },
    {
      "cell_type": "code",
      "source": [
        "# Subtração\n",
        "4 - 4"
      ],
      "metadata": {
        "colab": {
          "base_uri": "https://localhost:8080/"
        },
        "id": "HtQZDotq3vJC",
        "outputId": "d5c3d8c8-6ef7-4ecc-90cb-0d730b84daa1"
      },
      "execution_count": null,
      "outputs": [
        {
          "output_type": "execute_result",
          "data": {
            "text/plain": [
              "0"
            ]
          },
          "metadata": {},
          "execution_count": 15
        }
      ]
    },
    {
      "cell_type": "code",
      "source": [
        "# Multiplicação\n",
        "2 * 2"
      ],
      "metadata": {
        "colab": {
          "base_uri": "https://localhost:8080/"
        },
        "id": "tYWwBN31311a",
        "outputId": "f5e31826-faf3-44ee-af55-2afe8fad6f7b"
      },
      "execution_count": null,
      "outputs": [
        {
          "output_type": "execute_result",
          "data": {
            "text/plain": [
              "4"
            ]
          },
          "metadata": {},
          "execution_count": 16
        }
      ]
    },
    {
      "cell_type": "code",
      "source": [
        "# Divisão\n",
        "10 / 2"
      ],
      "metadata": {
        "colab": {
          "base_uri": "https://localhost:8080/"
        },
        "id": "45hNLTrM4CMs",
        "outputId": "34a03b4d-3745-4790-b192-b4b17f398b4a"
      },
      "execution_count": null,
      "outputs": [
        {
          "output_type": "execute_result",
          "data": {
            "text/plain": [
              "5.0"
            ]
          },
          "metadata": {},
          "execution_count": 17
        }
      ]
    },
    {
      "cell_type": "code",
      "source": [
        "# Exponenciação\n",
        "2 ** 3 # (2 x 2 x 2)"
      ],
      "metadata": {
        "colab": {
          "base_uri": "https://localhost:8080/"
        },
        "id": "YvfDocs84KwM",
        "outputId": "f737ab09-3be5-4d02-8dd5-4d08a2270e22"
      },
      "execution_count": null,
      "outputs": [
        {
          "output_type": "execute_result",
          "data": {
            "text/plain": [
              "8"
            ]
          },
          "metadata": {},
          "execution_count": 18
        }
      ]
    },
    {
      "cell_type": "code",
      "source": [
        "# Resto da Divisão\n",
        "3 % 4"
      ],
      "metadata": {
        "colab": {
          "base_uri": "https://localhost:8080/"
        },
        "id": "T0bqUz9e4ser",
        "outputId": "a626c543-2376-413b-95ab-91d8fb7218ae"
      },
      "execution_count": null,
      "outputs": [
        {
          "output_type": "execute_result",
          "data": {
            "text/plain": [
              "3"
            ]
          },
          "metadata": {},
          "execution_count": 19
        }
      ]
    },
    {
      "cell_type": "code",
      "source": [
        "# Divisão de Chão\n",
        "3 // 4"
      ],
      "metadata": {
        "colab": {
          "base_uri": "https://localhost:8080/"
        },
        "id": "nH1CVwGU40q1",
        "outputId": "01760d84-a75d-4382-820b-ae202f09ad51"
      },
      "execution_count": null,
      "outputs": [
        {
          "output_type": "execute_result",
          "data": {
            "text/plain": [
              "0"
            ]
          },
          "metadata": {},
          "execution_count": 20
        }
      ]
    },
    {
      "cell_type": "code",
      "source": [
        "# Priorização\n",
        "((((((2+2)))))) * 5"
      ],
      "metadata": {
        "colab": {
          "base_uri": "https://localhost:8080/"
        },
        "id": "wKZuW0X45MR1",
        "outputId": "04ea458f-50f3-46a6-edcc-d37b8b58c501"
      },
      "execution_count": null,
      "outputs": [
        {
          "output_type": "execute_result",
          "data": {
            "text/plain": [
              "20"
            ]
          },
          "metadata": {},
          "execution_count": 22
        }
      ]
    },
    {
      "cell_type": "markdown",
      "source": [
        "# 3º Variáveis\n",
        "Variáveis ​​são contêineres para armazenar valores de dados.<p>\n",
        "Uma variável é criada no momento em que você atribui um valor a ela.\n"
      ],
      "metadata": {
        "id": "8kkwJ1RK5q2C"
      }
    },
    {
      "cell_type": "code",
      "source": [
        "# Variaveis\n",
        "nome = \"gustavo\""
      ],
      "metadata": {
        "id": "CzYmLmAL5ulP"
      },
      "execution_count": null,
      "outputs": []
    },
    {
      "cell_type": "code",
      "source": [
        "# variaveis de texto\n",
        "var_texto = str(\"gustavo\")"
      ],
      "metadata": {
        "id": "1pz_zJgT6CTV"
      },
      "execution_count": null,
      "outputs": []
    },
    {
      "cell_type": "code",
      "source": [
        "# variaveis de números\n",
        "var_inteiro = int(200)"
      ],
      "metadata": {
        "id": "OaLE00ru8DaW"
      },
      "execution_count": null,
      "outputs": []
    },
    {
      "cell_type": "code",
      "source": [
        "# variaveis flutuantes\n",
        "var_flutuante = float(10.20)"
      ],
      "metadata": {
        "id": "IGELzLCT8VrZ"
      },
      "execution_count": null,
      "outputs": []
    },
    {
      "cell_type": "code",
      "source": [
        "# variaveis boleanos\n",
        "var_bol1 = true\n",
        "var_bol2 = false"
      ],
      "metadata": {
        "id": "e9UmOkK18gKW"
      },
      "execution_count": null,
      "outputs": []
    },
    {
      "cell_type": "markdown",
      "source": [
        "# **4º Tipos de Dados**\n",
        "1. Listas - São criadas usando [ ] (Colchetes)\n",
        "2. Tuplas - São criadas usando ( ) (Parenteses)\n",
        "3. Dicionários - São criadas usando { } (Chaves) <p>\n",
        "Esses tipos de dados podem receber qualquer tipo de informação, inclusive Operações Aritméticas"
      ],
      "metadata": {
        "id": "x1jtFVTQ9AVj"
      }
    },
    {
      "cell_type": "code",
      "source": [
        "# Listas\n",
        "Lista_ex_01 = [1, 2, 3, 4, 5]\n"
      ],
      "metadata": {
        "id": "K32G5d7h9F8m"
      },
      "execution_count": null,
      "outputs": []
    },
    {
      "cell_type": "code",
      "source": [
        "Listas_ex02 = [\"nome\", \"sobrenome\", \"idade\", 4, 5]"
      ],
      "metadata": {
        "id": "68nf6TxyeAWm"
      },
      "execution_count": null,
      "outputs": []
    },
    {
      "cell_type": "code",
      "source": [
        "Lista_ex3 = [1, \"Quarto\", True,[1, 2, 3]]\n"
      ],
      "metadata": {
        "id": "xKutTHfeeVZs"
      },
      "execution_count": null,
      "outputs": []
    },
    {
      "cell_type": "code",
      "source": [
        "# Tuplas são imutaveis (Não modifica)\n",
        "Tupla_ex1 = ( 2, 3, 4, 6 )\n",
        "Tupla_ex2 = ( \"Odemir\", \"Depieri\", 4)"
      ],
      "metadata": {
        "id": "IREtlWCKerRI"
      },
      "execution_count": null,
      "outputs": []
    },
    {
      "cell_type": "code",
      "source": [
        "# Dicionário são para organizar os dados (Chave, Valor)\n",
        "Dicionario = { \"Nome\": \"valor\",\n",
        "              \"Idade\": 29,\n",
        "               \"id\" : 2,\n",
        "               \"lista\" : Lista_ex_01,\n",
        "               }"
      ],
      "metadata": {
        "id": "L17v-ybVeyQw"
      },
      "execution_count": null,
      "outputs": []
    },
    {
      "cell_type": "markdown",
      "source": [
        "# 5º Nomeação de variáveis <p>\n",
        "Podemos nomear variáveis e tipos de dados de diversas formas:\n",
        "1. Declarar as variáveis em uma única linha de comando;\n",
        "2. Atribuir um valor à diversas variáveis;\n",
        "3. Declarar usando uma Lista;\n",
        "4. Combinar variáveis;\n",
        "5. Operar com operadores matemáticos;\n",
        "6. Muitos outros."
      ],
      "metadata": {
        "id": "MpDPkqkjgRiW"
      }
    },
    {
      "cell_type": "code",
      "source": [
        "# Nomeando Variaveis | Exemplo 1\n",
        "Laranja, Melão, Limão = 1, 2, 3\n",
        "print( Laranja, Melão, Limão, \"\\n\" )"
      ],
      "metadata": {
        "colab": {
          "base_uri": "https://localhost:8080/"
        },
        "id": "3JCmJTE0gpbb",
        "outputId": "1e27e0a5-6d43-4f17-fa3a-f2eacc9b78f4"
      },
      "execution_count": null,
      "outputs": [
        {
          "output_type": "stream",
          "name": "stdout",
          "text": [
            "1 2 3 \n",
            "\n"
          ]
        }
      ]
    },
    {
      "cell_type": "code",
      "source": [
        "# Nomeando\n",
        "Morango = Uva = Melao = 100\n",
        "print(Morango, Uva, Melao)"
      ],
      "metadata": {
        "id": "tQZnOzUeg0gq",
        "colab": {
          "base_uri": "https://localhost:8080/"
        },
        "outputId": "9f0147b4-88f6-41da-84de-f94da85b7c1f"
      },
      "execution_count": null,
      "outputs": [
        {
          "output_type": "stream",
          "name": "stdout",
          "text": [
            "100 100 100\n"
          ]
        }
      ]
    },
    {
      "cell_type": "code",
      "source": [
        "# Nomear com Listas\n",
        "Lista_Carro = [\"vw\", \"audi\", \"Tesla\"]\n",
        "Marca_01, Marca_02, Marca_03 = Listas_carros\n",
        "print(Marca_01, Marca_02, Marca_03)"
      ],
      "metadata": {
        "colab": {
          "base_uri": "https://localhost:8080/"
        },
        "id": "pZMaZ5ap5wpo",
        "outputId": "b1183a18-b973-4b4f-ad8a-ebf6acb26c97"
      },
      "execution_count": null,
      "outputs": [
        {
          "output_type": "stream",
          "name": "stdout",
          "text": [
            "vw audi Tesla\n"
          ]
        }
      ]
    },
    {
      "cell_type": "code",
      "source": [
        "# Experimento\n",
        "investimento = 1000\n",
        "taxa_juros = float(0.2)\n",
        "\n",
        "investimento * taxa_juros\n",
        "Valor_ganho = (investimento * taxa_juros) + investimento\n",
        "print(Valor_ganho)"
      ],
      "metadata": {
        "colab": {
          "base_uri": "https://localhost:8080/"
        },
        "id": "j06D8SwS6Zrm",
        "outputId": "ee765195-c527-46ce-df73-98797e1a728b"
      },
      "execution_count": null,
      "outputs": [
        {
          "output_type": "stream",
          "name": "stdout",
          "text": [
            "1200.0\n"
          ]
        }
      ]
    },
    {
      "cell_type": "markdown",
      "source": [
        "# **6º Tipo da Informação**\n",
        "Na programação, o tipo de dados é um conceito importante.\n",
        "Variáveis ​​podem armazenar dados de diferentes tipos, e diferentes tipos podem fazer coisas diferentes.\n",
        "O Python tem os seguintes tipos de dados integrados por padrão, nestas categorias:\n",
        "1. Text Type: *str*\n",
        "2. Numeric Types:\t*int*, *float*, *complex*\n",
        "3. Sequence Types:\t*list*, *tuple*, *range*\n",
        "4. Mapping Type:\t*dict*\n",
        "5. Set Types:\t*set*, *frozenset*\n",
        "6. Boolean Type:\t*bool*\n",
        "7. Binary Types:\t*bytes*, *bytearray*, *memoryview*"
      ],
      "metadata": {
        "id": "NK9KaC6L-bwd"
      }
    },
    {
      "cell_type": "code",
      "source": [
        "string = str(\"Olá mundo\")\n",
        "inteiro = int(20)\n",
        "flutuante = float(100.5)\n",
        "Complex = complex(1j)\n",
        "Lista = list( (\"maça\", \"morango\") )\n",
        "tupla = tuple( (\"a\", \"b\" ) )\n",
        "Range = range(6)\n",
        "Dicionario = dict(nome=\"Odemir\", age=29)\n",
        "Set = set( (\"a\", \"b\", \"c\") )\n",
        "Fronzet = frozenset( (\"a\", \"b\", \"c\") )\n",
        "Boleano = bool(5)\n",
        "Bytes = bytes(5)\n",
        "ByteArray = bytearray(5)\n",
        "Memoryview = memoryview( bytes(5) )\n",
        "\n",
        "from datetime import datetime\n",
        "Data = datetime.today().date()\n",
        "\n",
        "\n",
        "print ( type(string) )\n",
        "print ( type(inteiro) )\n",
        "print ( type(flutuante) )\n",
        "print ( type(Complex) )\n",
        "print ( type(Lista) )\n",
        "print ( type(tupla) )\n",
        "print ( type(range) )\n",
        "print ( type(Dicionario) )\n",
        "print ( type(Set) )\n",
        "print ( type(Fronzet) )\n",
        "print ( type(Boleano) )\n",
        "print ( type(Bytes) )\n",
        "print ( type(ByteArray) )\n",
        "print ( type(Memoryview) )\n",
        "print ( type(Data) )\n",
        "\n",
        "\n",
        "\n"
      ],
      "metadata": {
        "colab": {
          "base_uri": "https://localhost:8080/"
        },
        "id": "xzYd8KjQ-g_-",
        "outputId": "b9b0ff4a-5c67-43ed-c7b8-dd03d313d66f"
      },
      "execution_count": null,
      "outputs": [
        {
          "output_type": "stream",
          "name": "stdout",
          "text": [
            "<class 'str'>\n",
            "<class 'int'>\n",
            "<class 'float'>\n",
            "<class 'complex'>\n",
            "<class 'list'>\n",
            "<class 'tuple'>\n",
            "<class 'type'>\n",
            "<class 'dict'>\n",
            "<class 'set'>\n",
            "<class 'frozenset'>\n",
            "<class 'bool'>\n",
            "<class 'bytes'>\n",
            "<class 'bytearray'>\n",
            "<class 'memoryview'>\n",
            "<class 'datetime.date'>\n"
          ]
        }
      ]
    },
    {
      "cell_type": "markdown",
      "source": [
        "# **7º Comando Round**\n",
        "Quando trabalhamos com números flutuantes, podemos arredondar o valor usando um comando nativo do Python<p>\n",
        "\n",
        "round( valor, número de casas)"
      ],
      "metadata": {
        "id": "RY2PW-MOCJJ0"
      }
    },
    {
      "cell_type": "code",
      "source": [
        "# Comando round\n",
        "valor_ex = 12.1232456\n",
        "\n",
        "print(valor_ex)\n"
      ],
      "metadata": {
        "colab": {
          "base_uri": "https://localhost:8080/"
        },
        "id": "BaQuRzzlCL0Y",
        "outputId": "07eda99c-dc08-4f70-89fa-f38f031fd0b5"
      },
      "execution_count": null,
      "outputs": [
        {
          "output_type": "stream",
          "name": "stdout",
          "text": [
            "12.1232456\n"
          ]
        }
      ]
    },
    {
      "cell_type": "code",
      "source": [
        "round(valor_ex, 2)"
      ],
      "metadata": {
        "colab": {
          "base_uri": "https://localhost:8080/"
        },
        "id": "aABa4ZTLCi4-",
        "outputId": "0ffae562-e33e-44ce-f79f-4676bf8e9b7c"
      },
      "execution_count": null,
      "outputs": [
        {
          "output_type": "execute_result",
          "data": {
            "text/plain": [
              "12.12"
            ]
          },
          "metadata": {},
          "execution_count": 37
        }
      ]
    },
    {
      "cell_type": "markdown",
      "source": [
        "# **8º Comando Len**\n",
        "A função len() retorna a quantidade de elementos de qualquer lista em Python, essa é mais uma função built-in e disponível em qualquer parte dos nossos códigos."
      ],
      "metadata": {
        "id": "eXn1EXyFCx-r"
      }
    },
    {
      "cell_type": "code",
      "source": [
        "Listal = [1, 2, 3, 4, 5, 6, 7, 8, 9, 10]\n",
        "Dicionariol = {\"nome\" : \"odemir\", \"idade\":29}\n",
        "Tuplal = (1, 2, 3)\n",
        "stringl = \"olá mundo!\"\n"
      ],
      "metadata": {
        "id": "x-CAVHsqC9BO"
      },
      "execution_count": null,
      "outputs": []
    },
    {
      "cell_type": "code",
      "source": [
        "len(Listal)\n"
      ],
      "metadata": {
        "colab": {
          "base_uri": "https://localhost:8080/"
        },
        "id": "E7iXy4nDDkzd",
        "outputId": "8aed306d-c3c6-4a83-af48-9f93678883e9"
      },
      "execution_count": null,
      "outputs": [
        {
          "output_type": "execute_result",
          "data": {
            "text/plain": [
              "10"
            ]
          },
          "metadata": {},
          "execution_count": 53
        }
      ]
    },
    {
      "cell_type": "markdown",
      "source": [
        "# **9º Fatiamento de Strings**\n",
        "Strings são listas de bytes represetando caracteres.<p>\n",
        "Podemos acessar suas posições usando Colchetes<p>\n",
        "String [Posição Inicial: Posição Final]\n"
      ],
      "metadata": {
        "id": "Ftz4oWdjERVI"
      }
    },
    {
      "cell_type": "code",
      "source": [
        "Minha_string = \"Aprender python é top!\"\n",
        "\n",
        "CPF = \"cfp:123456789\"\n",
        "\n",
        "print (type(Minha_string))\n",
        "print (len(Minha_string))"
      ],
      "metadata": {
        "colab": {
          "base_uri": "https://localhost:8080/"
        },
        "id": "qCLCH4roEYi0",
        "outputId": "5f902661-0b22-4f9b-ca6f-3ce12a44f134"
      },
      "execution_count": null,
      "outputs": [
        {
          "output_type": "stream",
          "name": "stdout",
          "text": [
            "<class 'str'>\n",
            "22\n"
          ]
        }
      ]
    },
    {
      "cell_type": "code",
      "source": [
        "CPF[-9:]"
      ],
      "metadata": {
        "colab": {
          "base_uri": "https://localhost:8080/",
          "height": 35
        },
        "id": "nTHjC6hPIe71",
        "outputId": "cd08ae3b-87e8-4b29-d469-78483a694c01"
      },
      "execution_count": null,
      "outputs": [
        {
          "output_type": "execute_result",
          "data": {
            "text/plain": [
              "'1'"
            ],
            "application/vnd.google.colaboratory.intrinsic+json": {
              "type": "string"
            }
          },
          "metadata": {},
          "execution_count": 139
        }
      ]
    },
    {
      "cell_type": "code",
      "source": [
        "Minha_string[1]"
      ],
      "metadata": {
        "colab": {
          "base_uri": "https://localhost:8080/",
          "height": 35
        },
        "id": "SEkS1SyZFIMS",
        "outputId": "fe639962-a517-488b-8121-32e429783f36"
      },
      "execution_count": null,
      "outputs": [
        {
          "output_type": "execute_result",
          "data": {
            "text/plain": [
              "'p'"
            ],
            "application/vnd.google.colaboratory.intrinsic+json": {
              "type": "string"
            }
          },
          "metadata": {},
          "execution_count": 123
        }
      ]
    },
    {
      "cell_type": "code",
      "source": [
        "Minha_string[-1]"
      ],
      "metadata": {
        "colab": {
          "base_uri": "https://localhost:8080/",
          "height": 35
        },
        "id": "ab36W5_2FNrX",
        "outputId": "be2431cb-1ed1-4b51-e324-3b04a3568050"
      },
      "execution_count": null,
      "outputs": [
        {
          "output_type": "execute_result",
          "data": {
            "text/plain": [
              "'!'"
            ],
            "application/vnd.google.colaboratory.intrinsic+json": {
              "type": "string"
            }
          },
          "metadata": {},
          "execution_count": 124
        }
      ]
    },
    {
      "cell_type": "code",
      "source": [
        "Minha_string[9:]"
      ],
      "metadata": {
        "colab": {
          "base_uri": "https://localhost:8080/",
          "height": 35
        },
        "id": "vkyBAQTMFSKb",
        "outputId": "2d7e4d2c-4e97-447b-94b6-190521c5cf24"
      },
      "execution_count": null,
      "outputs": [
        {
          "output_type": "execute_result",
          "data": {
            "text/plain": [
              "'python é top!'"
            ],
            "application/vnd.google.colaboratory.intrinsic+json": {
              "type": "string"
            }
          },
          "metadata": {},
          "execution_count": 125
        }
      ]
    },
    {
      "cell_type": "code",
      "source": [
        "Minha_string[0:9]"
      ],
      "metadata": {
        "colab": {
          "base_uri": "https://localhost:8080/",
          "height": 35
        },
        "id": "dwgoKFAYFfy_",
        "outputId": "f90f9923-f998-426f-bb1b-de0bb871d3f2"
      },
      "execution_count": null,
      "outputs": [
        {
          "output_type": "execute_result",
          "data": {
            "text/plain": [
              "'Aprender '"
            ],
            "application/vnd.google.colaboratory.intrinsic+json": {
              "type": "string"
            }
          },
          "metadata": {},
          "execution_count": 63
        }
      ]
    },
    {
      "cell_type": "markdown",
      "source": [
        "# **10° Manipulação de Strings**<p>\n",
        "Um tipo de dados bastante usado no dia a dia são as strings, ou cadeias de caracteres (ou sequências de caracteres). O tipo de dados string, ou str como é chamado em Python, possui várias operações úteis associadas a ele. Essas operações tornam Python uma linguagem bastante propícia para manipulação de textos.\n",
        "Algumas funções mais utilizadas:\n",
        "\n",
        "1. replace()\n",
        "2. startswith()\n",
        "3. endswith()\n",
        "4. count()\n",
        "5. capitalize()\n",
        "6. isdigit()\n",
        "7. isalnum()\n",
        "8. upper()\n",
        "9. lower()\n",
        "10. find ()\n",
        "11. strip()\n",
        "12. split()"
      ],
      "metadata": {
        "id": "0ADHoR8TJnTL"
      }
    },
    {
      "cell_type": "code",
      "source": [
        "# Texto com espaços no início e no fim, e com palavras misturadas\n",
        "texto = \"  Olá mundo Python 123  \"\n",
        "\n",
        "# 1. replace(): substitui parte da string por outra\n",
        "# Aqui vai trocar \"Python\" por \"Programação\"\n",
        "print(\"replace:\", texto.replace(\"Python\", \"Programação\"))\n",
        "# Resultado: \"  Olá mundo Programação 123  \"\n",
        "\n",
        "# 2. startswith(): verifica se a string começa com um determinado texto\n",
        "# Aqui verifica se a string começa com \"  Olá\" (incluindo os espaços)\n",
        "print(\"startswith:\", texto.startswith(\"  Olá\"))\n",
        "# Resultado: True\n",
        "\n",
        "# 3. endswith(): verifica se a string termina com um determinado texto\n",
        "# Aqui verifica se a string termina com \"123  \" (com espaços)\n",
        "print(\"endswith:\", texto.endswith(\"123  \"))\n",
        "# Resultado: True\n",
        "\n",
        "# 4. count(): conta quantas vezes um caractere ou texto aparece\n",
        "# Aqui conta quantas vezes a letra \"o\" aparece\n",
        "print(\"count (quantas vezes aparece 'o'):\", texto.count(\"o\"))\n",
        "# Resultado: 3\n",
        "\n",
        "# 5. capitalize(): coloca a primeira letra da string em maiúsculo e o restante em minúsculo\n",
        "print(\"capitalize:\", texto.capitalize())\n",
        "# Resultado: \"  olá mundo python 123  \"\n",
        "\n",
        "# 6. isdigit(): verifica se a string contém apenas números\n",
        "print(\"isdigit em '123':\", \"123\".isdigit())  # True → só números\n",
        "print(\"isdigit em 'abc':\", \"abc\".isdigit())  # False → letras\n",
        "\n",
        "# 7. isalnum(): verifica se a string contém apenas letras e/ou números (sem espaços ou símbolos)\n",
        "print(\"isalnum em 'abc123':\", \"abc123\".isalnum())      # True\n",
        "print(\"isalnum em 'abc 123':\", \"abc 123\".isalnum())    # False → contém espaço\n",
        "\n",
        "# 8. upper(): transforma toda a string em letras maiúsculas\n",
        "print(\"upper:\", texto.upper())\n",
        "# Resultado: \"  OLÁ MUNDO PYTHON 123  \"\n",
        "\n",
        "# 9. lower(): transforma toda a string em letras minúsculas\n",
        "print(\"lower:\", texto.lower())\n",
        "# Resultado: \"  olá mundo python 123  \"\n",
        "\n",
        "# 10. find(): procura a posição onde começa um texto dentro da string\n",
        "# Aqui vai encontrar onde está \"mundo\" (posição 7)\n",
        "print(\"find 'mundo':\", texto.find(\"mundo\"))\n",
        "# Resultado: 7\n",
        "\n",
        "# 11. strip(): remove espaços em branco do início e do fim da string\n",
        "print(\"strip:\", texto.strip())\n",
        "# Resultado: \"Olá mundo Python 123\"\n",
        "\n",
        "# 12. split(): divide a string em partes (palavras), formando uma lista\n",
        "# O separador padrão é o espaço\n",
        "print(\"split:\", texto.strip().split())\n",
        "# Resultado: ['Olá', 'mundo', 'Python', '123']"
      ],
      "metadata": {
        "colab": {
          "base_uri": "https://localhost:8080/"
        },
        "id": "H2MswTl2jQIs",
        "outputId": "648f7c35-bb84-42a8-f57e-f648fdfc7d59"
      },
      "execution_count": null,
      "outputs": [
        {
          "output_type": "stream",
          "name": "stdout",
          "text": [
            "replace:   Olá mundo Programação 123  \n",
            "startswith: True\n",
            "endswith: True\n",
            "count (quantas vezes aparece 'o'): 2\n",
            "capitalize:   olá mundo python 123  \n",
            "isdigit em '123': True\n",
            "isdigit em 'abc': False\n",
            "isalnum em 'abc123': True\n",
            "isalnum em 'abc 123': False\n",
            "upper:   OLÁ MUNDO PYTHON 123  \n",
            "lower:   olá mundo python 123  \n",
            "find 'mundo': 6\n",
            "strip: Olá mundo Python 123\n",
            "split: ['Olá', 'mundo', 'Python', '123']\n"
          ]
        }
      ]
    },
    {
      "cell_type": "markdown",
      "source": [
        "# **11º Comando Input**\n",
        "A função input() recebe como parâmetro uma string que será mostrada como auxílio ao usuário, geralmente o informando que tipo de dado o programa está aguardando receber.\n",
        "\n",
        "input()"
      ],
      "metadata": {
        "id": "H9FlPkJQlTds"
      }
    },
    {
      "cell_type": "code",
      "source": [
        " nomei = input(\"qual seu nome? \")\n",
        " idadei = input(\"qual sua idade? \")\n",
        "print(f\"Seu nome é {nomei} e sua idade é {idadei}\")"
      ],
      "metadata": {
        "colab": {
          "base_uri": "https://localhost:8080/"
        },
        "id": "khti-pKdlY-n",
        "outputId": "41b10177-bfe7-475b-bb85-0b215f7341b1"
      },
      "execution_count": null,
      "outputs": [
        {
          "output_type": "stream",
          "name": "stdout",
          "text": [
            "qual seu nome? gu\n",
            "qual sua idade? 17\n",
            "Seu nome é gu e sua idade é 17\n"
          ]
        }
      ]
    },
    {
      "cell_type": "markdown",
      "source": [
        "# **12º Operadores de Comparação**\n",
        "Os operadores de comparação são usados ​​para comparar dois valores:\n",
        "1. '==' ( Igual a )\n",
        "2. '!=' ( Diferente )\n",
        "3. '>' ( Maior )\n",
        "4. '<' ( Menor )\n",
        "5. '>=' ( Maior igual )\n",
        "6. '<=' ( Menor igual )"
      ],
      "metadata": {
        "id": "ErW5ISSDmIm3"
      }
    },
    {
      "cell_type": "markdown",
      "source": [
        "# **13º Operadores Lógicos**\n",
        "Os operadores lógicos são usados ​​para combinar instruções condicionais:\n",
        "1. and (Retorna True se ambas as declarações forem verdadeiras)\n",
        "2. or (Retorna True se uma das declarações for verdadeira)\n",
        "3. not (Inverte o resultado, retorna False se o resultado for verdadeiro)"
      ],
      "metadata": {
        "id": "vKFxcwU16IQR"
      }
    },
    {
      "cell_type": "code",
      "source": [
        "print(\"8 é maior que 7 e 7 menor que 8:\", 8 > 7 and 7 < 8 )"
      ],
      "metadata": {
        "colab": {
          "base_uri": "https://localhost:8080/"
        },
        "id": "lZ4Wf8htmKfi",
        "outputId": "496d7bee-1d04-4d79-f73c-840468721694"
      },
      "execution_count": null,
      "outputs": [
        {
          "output_type": "stream",
          "name": "stdout",
          "text": [
            "8 é maior que 7 e 7 menor que 8: True\n"
          ]
        }
      ]
    },
    {
      "cell_type": "code",
      "source": [
        "print(\"8 é maior que 7 e 7 menor que 5:\", 8 > 7 or 7 < 5 )"
      ],
      "metadata": {
        "colab": {
          "base_uri": "https://localhost:8080/"
        },
        "id": "mrXs3fEn6hRq",
        "outputId": "babe35ba-f298-49c6-ccac-2706cfcdcc2e"
      },
      "execution_count": null,
      "outputs": [
        {
          "output_type": "stream",
          "name": "stdout",
          "text": [
            "8 é maior que 7 e 7 menor que 8: True\n"
          ]
        }
      ]
    },
    {
      "cell_type": "code",
      "source": [
        "lista2 = [1, 2, 3, 4]\n",
        "5 not in lista2"
      ],
      "metadata": {
        "colab": {
          "base_uri": "https://localhost:8080/"
        },
        "id": "zuywGHD7AH1x",
        "outputId": "2e8d9f1c-fed0-4222-a11a-9f217c24b074"
      },
      "execution_count": null,
      "outputs": [
        {
          "output_type": "execute_result",
          "data": {
            "text/plain": [
              "True"
            ]
          },
          "metadata": {},
          "execution_count": 37
        }
      ]
    },
    {
      "cell_type": "markdown",
      "source": [
        "# **14º Operadores de Identidade**\n",
        "Os operadores de identidade são usados ​​para comparar os objetos, não se forem iguais, mas se forem realmente o mesmo objeto, com a mesma localização de memória:\n",
        "1. is (Retorna True se ambas as variáveis ​​forem o mesmo objeto)\n",
        "2. is not (Retorna True se ambas as variáveis ​​não forem o mesmo objeto)"
      ],
      "metadata": {
        "id": "ujqu_eo2AZMk"
      }
    },
    {
      "cell_type": "code",
      "source": [
        "teste1 = \"oioi\"\n",
        "teste2 = \"oioi\"\n",
        "\n",
        "type(teste1) == type(teste2)\n",
        "\n"
      ],
      "metadata": {
        "colab": {
          "base_uri": "https://localhost:8080/"
        },
        "id": "RmsCLWLUAe9r",
        "outputId": "2fe8ab8f-97a5-4e1f-8577-6dc90e2ff927"
      },
      "execution_count": null,
      "outputs": [
        {
          "output_type": "execute_result",
          "data": {
            "text/plain": [
              "True"
            ]
          },
          "metadata": {},
          "execution_count": 41
        }
      ]
    },
    {
      "cell_type": "code",
      "source": [
        "type(teste1) is not type(teste2)"
      ],
      "metadata": {
        "id": "DZOTOMoGA5sV",
        "outputId": "0191a331-6d8b-4907-f8b4-7799a7539547",
        "colab": {
          "base_uri": "https://localhost:8080/"
        }
      },
      "execution_count": null,
      "outputs": [
        {
          "output_type": "execute_result",
          "data": {
            "text/plain": [
              "False"
            ]
          },
          "metadata": {},
          "execution_count": 47
        }
      ]
    },
    {
      "cell_type": "markdown",
      "source": [
        "# **15º Operadores de Associação**\n",
        "Os operadores de associação são usados ​​para testar se uma sequência é apresentada em um objeto:\n",
        "1. in (Retorna True se uma sequência com o valor especificado estiver presente no objeto)\n",
        "2. not in (Retorna True se uma sequência com o valor especificado não estiver presente no objeto)"
      ],
      "metadata": {
        "id": "6ae8E5cc3tu-"
      }
    },
    {
      "cell_type": "code",
      "source": [
        "lista_acoes = [\"magalu\", \"via\", \"carrefuor\"]\n",
        "\n",
        "\"via\" in lista_acoes"
      ],
      "metadata": {
        "colab": {
          "base_uri": "https://localhost:8080/"
        },
        "id": "trDacodw36Se",
        "outputId": "00c2447d-0ddc-4763-99cc-6567755cf673"
      },
      "execution_count": null,
      "outputs": [
        {
          "output_type": "execute_result",
          "data": {
            "text/plain": [
              "True"
            ]
          },
          "metadata": {},
          "execution_count": 2
        }
      ]
    },
    {
      "cell_type": "code",
      "source": [
        "\"zz\" in lista_acoes"
      ],
      "metadata": {
        "colab": {
          "base_uri": "https://localhost:8080/"
        },
        "id": "gPL7we0u7Mba",
        "outputId": "d0c492ad-d649-404e-ae2a-661b99a900cf"
      },
      "execution_count": null,
      "outputs": [
        {
          "output_type": "execute_result",
          "data": {
            "text/plain": [
              "False"
            ]
          },
          "metadata": {},
          "execution_count": 3
        }
      ]
    },
    {
      "cell_type": "code",
      "source": [
        "\"rlk\" not in lista_acoes"
      ],
      "metadata": {
        "colab": {
          "base_uri": "https://localhost:8080/"
        },
        "id": "Xsk8_95Y7TNp",
        "outputId": "8a1ed010-5728-441b-bba1-7175b8b82662"
      },
      "execution_count": null,
      "outputs": [
        {
          "output_type": "execute_result",
          "data": {
            "text/plain": [
              "True"
            ]
          },
          "metadata": {},
          "execution_count": 4
        }
      ]
    },
    {
      "cell_type": "markdown",
      "source": [
        "# **16º Manipulando Listas**\n",
        "As listas são usadas para armazenar vários itens em uma única variável.\n",
        "\n",
        "As listas são um dos 4 tipos de dados internos do Python usados ​​para armazenar coleções de dados, os outros 3 são Tuple , Set e Dictionary , todos com qualidades e usos diferentes.<p>\n",
        "Comandos mais utilizados:\n",
        "1. append() - Para adicionar um item ao final da lista\n",
        "2. len() - Calcular o tamanho da lista\n",
        "3. [  ] - Acessar posições\n",
        "4. del() - Exlcuir um elemtno\n",
        "5. clear() - Limpar a lista\n",
        "6. insert() - Para inserir um item de lista em um índice especificado\n",
        "7. extend() - Anexar elementos de outra lista à lista atual\n",
        "8. remove() - Remove o item especificado\n",
        "9. pop() - Remove o índice especificado.\n",
        "10. sort() - Ordenar os valores\n",
        "11. copy() - Faz uma copia da Lista\n",
        "12. index() - Retorna o index do elemento da lista"
      ],
      "metadata": {
        "id": "aMFPvQt27hV5"
      }
    },
    {
      "cell_type": "code",
      "source": [
        "lista_vazia = []\n",
        "print(lista_vazia)"
      ],
      "metadata": {
        "colab": {
          "base_uri": "https://localhost:8080/"
        },
        "id": "KdwNwJVI7m6U",
        "outputId": "f2e5c5ad-f555-4e14-cc7b-e95d4b1229c9"
      },
      "execution_count": null,
      "outputs": [
        {
          "output_type": "stream",
          "name": "stdout",
          "text": [
            "[]\n"
          ]
        }
      ]
    },
    {
      "cell_type": "code",
      "source": [
        "lista_vazia.append(1)\n",
        "lista_vazia.append(2)\n",
        "lista_vazia.append(\"oi\")\n",
        "\n"
      ],
      "metadata": {
        "id": "VYSgGiPq72rc"
      },
      "execution_count": null,
      "outputs": []
    },
    {
      "cell_type": "code",
      "source": [
        "# Tamanho da lista\n",
        "len(lista_vazia)"
      ],
      "metadata": {
        "colab": {
          "base_uri": "https://localhost:8080/"
        },
        "id": "8tzb7wAn8iBh",
        "outputId": "098e0e5a-ade1-4e83-ea0b-bc2c34a1060e"
      },
      "execution_count": null,
      "outputs": [
        {
          "output_type": "execute_result",
          "data": {
            "text/plain": [
              "3"
            ]
          },
          "metadata": {},
          "execution_count": 65
        }
      ]
    },
    {
      "cell_type": "code",
      "source": [
        "# Limpar a lista\n",
        "print(lista_vazia)\n",
        "lista_vazia.clear()\n",
        "print(lista_vazia)"
      ],
      "metadata": {
        "colab": {
          "base_uri": "https://localhost:8080/"
        },
        "id": "OusL5yJ49XNH",
        "outputId": "bb1b87c6-2328-408f-b9d5-56242b7b682a"
      },
      "execution_count": null,
      "outputs": [
        {
          "output_type": "stream",
          "name": "stdout",
          "text": [
            "[1, 2, 'oi']\n",
            "[]\n"
          ]
        }
      ]
    },
    {
      "cell_type": "code",
      "source": [
        "# Para inserir um item de lista em um local especifico\n",
        "lista_vazia.insert(2, \"0\")\n",
        "print(lista_vazia)\n",
        "\n"
      ],
      "metadata": {
        "colab": {
          "base_uri": "https://localhost:8080/"
        },
        "id": "ePzywGp49170",
        "outputId": "7100bc8f-f085-4e35-b6da-231f5324b73a"
      },
      "execution_count": null,
      "outputs": [
        {
          "output_type": "stream",
          "name": "stdout",
          "text": [
            "[1, 2, '0', 'oi', '0']\n"
          ]
        }
      ]
    },
    {
      "cell_type": "code",
      "source": [
        "# Anexar elementos de outra lista à lista atual\n",
        "lista_05 = [1, 2, 3]\n",
        "lista_06 = [4, 5, 6]\n",
        "lista_05.extend(lista_06)\n",
        "\n",
        "lista_05"
      ],
      "metadata": {
        "colab": {
          "base_uri": "https://localhost:8080/"
        },
        "id": "z0DqDPI4-4mZ",
        "outputId": "6b2daae5-b342-4808-de17-22fe8ffe7b41"
      },
      "execution_count": null,
      "outputs": [
        {
          "output_type": "execute_result",
          "data": {
            "text/plain": [
              "[1, 2, 3, 4, 5, 6]"
            ]
          },
          "metadata": {},
          "execution_count": 68
        }
      ]
    },
    {
      "cell_type": "code",
      "source": [
        "# Remove o item especifico\n",
        "lista_05.remove(3)\n",
        "lista_05"
      ],
      "metadata": {
        "colab": {
          "base_uri": "https://localhost:8080/"
        },
        "id": "papV0Vi__JlY",
        "outputId": "4c9f7f55-4bac-4b13-c858-818454a24cec"
      },
      "execution_count": null,
      "outputs": [
        {
          "output_type": "execute_result",
          "data": {
            "text/plain": [
              "[1, 2, 4, 5, 6]"
            ]
          },
          "metadata": {},
          "execution_count": 55
        }
      ]
    },
    {
      "cell_type": "code",
      "source": [
        "# Remove o índice pela posiçao\n",
        "lista_05.pop(0)\n",
        "lista_05\n"
      ],
      "metadata": {
        "colab": {
          "base_uri": "https://localhost:8080/"
        },
        "id": "MfmMqoWQ_lSj",
        "outputId": "9f3e91f7-6347-45ff-8f8d-9b4d2b45d155"
      },
      "execution_count": null,
      "outputs": [
        {
          "output_type": "execute_result",
          "data": {
            "text/plain": [
              "[2, 3, 4, 5, 6]"
            ]
          },
          "metadata": {},
          "execution_count": 58
        }
      ]
    },
    {
      "cell_type": "code",
      "source": [
        "# Ordenar os valores\n",
        "\n",
        "lista_abc = [\"z\", \"h\", \"a\", \"f\"]\n",
        "lista_abc.sort()\n",
        "lista_abc"
      ],
      "metadata": {
        "colab": {
          "base_uri": "https://localhost:8080/"
        },
        "id": "rbyhXMul_3Rl",
        "outputId": "9d127827-70fd-4825-8c50-e120d1343bb4"
      },
      "execution_count": null,
      "outputs": [
        {
          "output_type": "execute_result",
          "data": {
            "text/plain": [
              "['a', 'f', 'h', 'z']"
            ]
          },
          "metadata": {},
          "execution_count": 59
        }
      ]
    },
    {
      "cell_type": "code",
      "source": [
        "# Ordenar os valores reverso\n",
        "lista_abc.sort(reverse=True)\n",
        "lista_abc"
      ],
      "metadata": {
        "colab": {
          "base_uri": "https://localhost:8080/"
        },
        "id": "HkvGsOycATZp",
        "outputId": "9f8d354b-c0f1-4900-f12d-62477aaeeab8"
      },
      "execution_count": null,
      "outputs": [
        {
          "output_type": "execute_result",
          "data": {
            "text/plain": [
              "['z', 'h', 'f', 'a']"
            ]
          },
          "metadata": {},
          "execution_count": 62
        }
      ]
    },
    {
      "cell_type": "code",
      "source": [
        "# Copiar uma lista\n",
        "lista_nova = lista_05.copy()\n",
        "lista_nova\n"
      ],
      "metadata": {
        "colab": {
          "base_uri": "https://localhost:8080/"
        },
        "id": "-qILRdd0Aewd",
        "outputId": "9f4baaca-fbcf-42e1-c117-05879f9ba545"
      },
      "execution_count": null,
      "outputs": [
        {
          "output_type": "execute_result",
          "data": {
            "text/plain": [
              "[1, 2, 3, 4, 5, 6]"
            ]
          },
          "metadata": {},
          "execution_count": 69
        }
      ]
    },
    {
      "cell_type": "code",
      "source": [
        "# Retorna a posição de um  elemento da lista\n",
        "lista_nova.index(3)"
      ],
      "metadata": {
        "colab": {
          "base_uri": "https://localhost:8080/"
        },
        "id": "RIdAKJtPBDSD",
        "outputId": "84e62fad-da90-4c01-df57-81acd09229d9"
      },
      "execution_count": null,
      "outputs": [
        {
          "output_type": "execute_result",
          "data": {
            "text/plain": [
              "2"
            ]
          },
          "metadata": {},
          "execution_count": 70
        }
      ]
    },
    {
      "cell_type": "markdown",
      "source": [
        "# **17º Pacote Externo - Datetime**\n",
        "O datetime módulo fornece classes para manipulação de datas e horas."
      ],
      "metadata": {
        "id": "0Cg9x2dUBhUm"
      }
    },
    {
      "cell_type": "code",
      "source": [
        "import datetime"
      ],
      "metadata": {
        "id": "bLb8sW8SBip1"
      },
      "execution_count": null,
      "outputs": []
    },
    {
      "cell_type": "code",
      "source": [
        "# Dia de Hoje\n",
        "dia_hoje = datetime.datetime.today()\n",
        "print(dia_hoje)\n",
        "type(dia_hoje)"
      ],
      "metadata": {
        "colab": {
          "base_uri": "https://localhost:8080/"
        },
        "id": "VJt2uukyp1ko",
        "outputId": "348e6bef-9dcc-4976-b5a3-3cee2c989a8a"
      },
      "execution_count": null,
      "outputs": [
        {
          "output_type": "stream",
          "name": "stdout",
          "text": [
            "2025-08-06 01:11:23.660919\n"
          ]
        },
        {
          "output_type": "execute_result",
          "data": {
            "text/plain": [
              "datetime.datetime"
            ]
          },
          "metadata": {},
          "execution_count": 20
        }
      ]
    },
    {
      "cell_type": "code",
      "source": [
        "# Construindo uma Data\n",
        "print (datetime.datetime.today().date() )"
      ],
      "metadata": {
        "colab": {
          "base_uri": "https://localhost:8080/"
        },
        "id": "TeoikAE005wX",
        "outputId": "80c1d171-d655-405c-b85f-97662fa9668d"
      },
      "execution_count": null,
      "outputs": [
        {
          "output_type": "stream",
          "name": "stdout",
          "text": [
            "2025-08-06\n"
          ]
        }
      ]
    },
    {
      "cell_type": "code",
      "source": [
        "# Acessando os atributos da DAta\n",
        "data = (datetime.datetime.today().date() )\n",
        "\n",
        "ano = data.year\n",
        "mes = data.month\n",
        "dia = data.day\n",
        "\n",
        "print (ano, mes, dia)\n"
      ],
      "metadata": {
        "colab": {
          "base_uri": "https://localhost:8080/"
        },
        "id": "TSmpsyz31F7l",
        "outputId": "b98d8d98-88fd-4c0a-bfb7-f9b5adea71bf"
      },
      "execution_count": null,
      "outputs": [
        {
          "output_type": "stream",
          "name": "stdout",
          "text": [
            "2025 8 6\n"
          ]
        }
      ]
    },
    {
      "cell_type": "code",
      "source": [
        "# Operação\n",
        "data_antiga = datetime.date(2025, 5, 2)\n",
        "print(data_antiga)\n",
        "data - data_antiga"
      ],
      "metadata": {
        "colab": {
          "base_uri": "https://localhost:8080/"
        },
        "id": "muB2IK6M1i7m",
        "outputId": "09c3a79b-3c7d-460d-827d-e57513aa8968"
      },
      "execution_count": null,
      "outputs": [
        {
          "output_type": "stream",
          "name": "stdout",
          "text": [
            "2025-05-02\n"
          ]
        },
        {
          "output_type": "execute_result",
          "data": {
            "text/plain": [
              "datetime.timedelta(days=96)"
            ]
          },
          "metadata": {},
          "execution_count": 43
        }
      ]
    },
    {
      "cell_type": "code",
      "source": [
        "# formata como brasileiro\n",
        "data.strftime('%d/%m/%Y')"
      ],
      "metadata": {
        "colab": {
          "base_uri": "https://localhost:8080/",
          "height": 35
        },
        "id": "9k6cqGU43N_j",
        "outputId": "1b4e9aa2-cb1f-4790-8439-3748314b3c79"
      },
      "execution_count": null,
      "outputs": [
        {
          "output_type": "execute_result",
          "data": {
            "text/plain": [
              "'06/08/2025'"
            ],
            "application/vnd.google.colaboratory.intrinsic+json": {
              "type": "string"
            }
          },
          "metadata": {},
          "execution_count": 40
        }
      ]
    },
    {
      "cell_type": "code",
      "source": [
        "# somar datas\n",
        "data + datetime.timedelta(days= 30)"
      ],
      "metadata": {
        "colab": {
          "base_uri": "https://localhost:8080/"
        },
        "id": "VWdSI9O83wnV",
        "outputId": "4aaad85d-8e3f-4646-ea65-bdbfb6cf8655"
      },
      "execution_count": null,
      "outputs": [
        {
          "output_type": "execute_result",
          "data": {
            "text/plain": [
              "datetime.date(2025, 9, 5)"
            ]
          },
          "metadata": {},
          "execution_count": 44
        }
      ]
    },
    {
      "cell_type": "markdown",
      "source": [
        "# **18° Pacote Externo - Time**\n",
        "Este módulo fornece várias funções relacionadas ao tempo"
      ],
      "metadata": {
        "id": "XFvfGyax47nT"
      }
    },
    {
      "cell_type": "code",
      "source": [
        "import time\n",
        "print('Esse print foi rápido!')\n",
        "time.sleep(3)\n",
        "print('Esse print aconteceu depois de 3 segundos \\n')"
      ],
      "metadata": {
        "id": "YFMOu4KZ7Zip",
        "colab": {
          "base_uri": "https://localhost:8080/"
        },
        "outputId": "18cfe5d2-0979-4b82-a865-2b7d28aa1f47"
      },
      "execution_count": null,
      "outputs": [
        {
          "output_type": "stream",
          "name": "stdout",
          "text": [
            "Esse print foi rápido!\n",
            "Esse print aconteceu depois de 3 segundos \n",
            "\n"
          ]
        }
      ]
    },
    {
      "cell_type": "code",
      "source": [
        "# Capturar o local agora\n",
        "agora = time.localtime()\n",
        "print(agora)\n",
        "print(type(agora))"
      ],
      "metadata": {
        "colab": {
          "base_uri": "https://localhost:8080/"
        },
        "id": "xLUaFWksnwEF",
        "outputId": "ff44c070-7383-4ffc-99bf-844d607cfdf8"
      },
      "execution_count": null,
      "outputs": [
        {
          "output_type": "stream",
          "name": "stdout",
          "text": [
            "time.struct_time(tm_year=2025, tm_mon=8, tm_mday=6, tm_hour=14, tm_min=15, tm_sec=45, tm_wday=2, tm_yday=218, tm_isdst=0)\n",
            "<class 'time.struct_time'>\n"
          ]
        }
      ]
    },
    {
      "cell_type": "code",
      "source": [
        "time.strftime(\"'%d/%m/%Y, %H:%M:%S'\", agora)"
      ],
      "metadata": {
        "colab": {
          "base_uri": "https://localhost:8080/",
          "height": 35
        },
        "id": "E2FdJyWEpsJf",
        "outputId": "fbb47a8b-dbb4-4fc9-a93f-b22c1f8ea082"
      },
      "execution_count": null,
      "outputs": [
        {
          "output_type": "execute_result",
          "data": {
            "text/plain": [
              "\"'06/08/2025, 14:15:45'\""
            ],
            "application/vnd.google.colaboratory.intrinsic+json": {
              "type": "string"
            }
          },
          "metadata": {},
          "execution_count": 15
        }
      ]
    },
    {
      "cell_type": "code",
      "source": [
        "# Converter uma string para time\n",
        "Time_Texto = '21 June, 2018'\n",
        "Conversao = time.strptime(Time_Texto, '%d %B, %Y')\n",
        "print(time.strftime(\"'%d/%m/%Y, %H:%M:%S'\", Conversao))"
      ],
      "metadata": {
        "colab": {
          "base_uri": "https://localhost:8080/"
        },
        "id": "T4Tc0-aoqFOr",
        "outputId": "f14ac70e-5334-48b4-93f3-d40912005774"
      },
      "execution_count": null,
      "outputs": [
        {
          "output_type": "stream",
          "name": "stdout",
          "text": [
            "'21/06/2018, 00:00:00'\n"
          ]
        }
      ]
    },
    {
      "cell_type": "markdown",
      "source": [
        "# 19º Pacote Externo - Math\n",
        "**negrito**O Python possui um conjunto de funções matemáticas integradas, incluindo um extenso módulo matemático, que permite realizar tarefas matemáticas em números."
      ],
      "metadata": {
        "id": "yWKoyv9t5C1_"
      }
    },
    {
      "cell_type": "code",
      "source": [
        "import math\n",
        "\n",
        "# Sem necessidade do math\n",
        "\n",
        "# Minino e Maximo\n",
        "Tupla = (10, 15, 5, 8, 20)\n",
        "print( min(Tupla) )\n",
        "print( max(Tupla) )"
      ],
      "metadata": {
        "colab": {
          "base_uri": "https://localhost:8080/"
        },
        "id": "udCn0ILlqwXk",
        "outputId": "8cc73072-7a89-4778-b646-809a3739a006"
      },
      "execution_count": null,
      "outputs": [
        {
          "output_type": "stream",
          "name": "stdout",
          "text": [
            "5\n",
            "20\n"
          ]
        }
      ]
    },
    {
      "cell_type": "code",
      "source": [
        "# ABS  retorna o valor absoluto (positivo) do número especificado\n",
        "print( abs(-2.25) )\n",
        "\n",
        "# Retorna a potencia (seria o msm que 3 * 3 * 3 * 3)\n",
        "print( pow(3, 4) )"
      ],
      "metadata": {
        "colab": {
          "base_uri": "https://localhost:8080/"
        },
        "id": "-H-8AwrbrI0P",
        "outputId": "ac388418-2230-4fcb-b744-a311f3962803"
      },
      "execution_count": null,
      "outputs": [
        {
          "output_type": "stream",
          "name": "stdout",
          "text": [
            "2.25\n",
            "81\n"
          ]
        }
      ]
    },
    {
      "cell_type": "code",
      "source": [
        "print(math.ceil(1.4))   # Arredonda para cima → 2\n",
        "print(math.floor(1.4))  # Arredonda para baixo → 1"
      ],
      "metadata": {
        "colab": {
          "base_uri": "https://localhost:8080/"
        },
        "id": "oGyqerKCrrta",
        "outputId": "a00954fc-6753-4a41-ee9e-00eade2f92a9"
      },
      "execution_count": null,
      "outputs": [
        {
          "output_type": "stream",
          "name": "stdout",
          "text": [
            "2\n",
            "1\n"
          ]
        }
      ]
    },
    {
      "cell_type": "code",
      "source": [
        "# Arredonda um número para cima até o número inteiro mais próximo\n",
        "print( math.ceil(1.4) )\n",
        "\n",
        "# Arredonda um número para baixo até o número inteiro mais próximo\n",
        "print( math.floor(1.4) )"
      ],
      "metadata": {
        "colab": {
          "base_uri": "https://localhost:8080/"
        },
        "id": "ko4N0OtVsuzA",
        "outputId": "6c0ff830-f9bb-455a-e9e6-cd1839ecb19d"
      },
      "execution_count": null,
      "outputs": [
        {
          "output_type": "stream",
          "name": "stdout",
          "text": [
            "2\n",
            "1\n"
          ]
        }
      ]
    },
    {
      "cell_type": "code",
      "source": [
        "# retorna o numero de PI\n",
        "print( math.pi )"
      ],
      "metadata": {
        "colab": {
          "base_uri": "https://localhost:8080/"
        },
        "id": "7XBK_-QAsQ11",
        "outputId": "44ce2d22-41df-422d-f442-839fe23dd19b"
      },
      "execution_count": null,
      "outputs": [
        {
          "output_type": "stream",
          "name": "stdout",
          "text": [
            "3.141592653589793\n"
          ]
        }
      ]
    },
    {
      "cell_type": "markdown",
      "source": [
        "# **20° Pacote Externo - Random**\n",
        "Este módulo implementa geradores de números pseudo-aleatórios para várias distribuições."
      ],
      "metadata": {
        "id": "0x-C-jGT5EQp"
      }
    },
    {
      "cell_type": "code",
      "source": [
        "import random\n",
        "# sorteia aleatoriamente um número da lista\n",
        "lista_r = [1, 2, 3, 4, 5, 6, 7, 8]\n",
        "random.choice(lista_r)"
      ],
      "metadata": {
        "colab": {
          "base_uri": "https://localhost:8080/"
        },
        "id": "SREbXlxFtCqG",
        "outputId": "c033a198-a5d5-48b9-ac3c-b09946611780"
      },
      "execution_count": null,
      "outputs": [
        {
          "output_type": "execute_result",
          "data": {
            "text/plain": [
              "7"
            ]
          },
          "metadata": {},
          "execution_count": 40
        }
      ]
    },
    {
      "cell_type": "code",
      "source": [
        "# Sortear uma letra da palavra\n",
        "palavra_r = \"gustavo\"\n",
        "random.choice(palavra_r)"
      ],
      "metadata": {
        "colab": {
          "base_uri": "https://localhost:8080/",
          "height": 35
        },
        "id": "knrA37D2t-R-",
        "outputId": "76da2444-3b4d-4264-dea9-a540015d5942"
      },
      "execution_count": null,
      "outputs": [
        {
          "output_type": "execute_result",
          "data": {
            "text/plain": [
              "'u'"
            ],
            "application/vnd.google.colaboratory.intrinsic+json": {
              "type": "string"
            }
          },
          "metadata": {},
          "execution_count": 44
        }
      ]
    },
    {
      "cell_type": "code",
      "source": [
        "# Sorteia um número inteiro aleatório entre (A e B)\n",
        "\n",
        "Numero_Aleatorio = random.randint(0, 100)\n",
        "print(Numero_Aleatorio)"
      ],
      "metadata": {
        "colab": {
          "base_uri": "https://localhost:8080/"
        },
        "id": "yq9WvTwauQsD",
        "outputId": "b71c56d3-de4e-4e5f-e896-b15856cbd223"
      },
      "execution_count": null,
      "outputs": [
        {
          "output_type": "stream",
          "name": "stdout",
          "text": [
            "75\n"
          ]
        }
      ]
    },
    {
      "cell_type": "markdown",
      "source": [
        "# **21° Pacote Externo - Statistics**\n",
        "Este módulo fornece funções para calcular estatísticas matemáticas de dados numéricos e interage com as listas"
      ],
      "metadata": {
        "id": "exUbffEN5I4_"
      }
    },
    {
      "cell_type": "code",
      "source": [
        "# Importando a Statistics para operar nas listas\n",
        "import statistics\n",
        "\n",
        "# Retirando a média\n",
        "Media = statistics.mean( [1, 2, 3, 4, 4] )\n",
        "print(f'A media seria: {Media} \\n')\n",
        "\n",
        "Mediana = statistics.median( [1, 2, 3, 4, 4] )\n",
        "print(f'A mediana seria: {Mediana} \\n')\n",
        "\n",
        "Moda = statistics.mode( [1, 2, 3, 4, 4] )\n",
        "print(f'A moda seria: {Moda}')"
      ],
      "metadata": {
        "colab": {
          "base_uri": "https://localhost:8080/"
        },
        "id": "YP4EpjOnwlXx",
        "outputId": "14af255d-5e5b-434d-9390-d302d42f3029"
      },
      "execution_count": null,
      "outputs": [
        {
          "output_type": "stream",
          "name": "stdout",
          "text": [
            "A media seria: 2.8 \n",
            "\n",
            "A mediana seria: 3 \n",
            "\n",
            "A moda seria: 4\n"
          ]
        }
      ]
    },
    {
      "cell_type": "markdown",
      "source": [
        "# **22º Condição If**\n",
        "if é a declaração mais simples de tomada de decisão. <p>Ele é usado para decidir se uma determinada instrução ou bloco de instruções será executado ou não, ou seja, se uma determinada condição for verdadeira, um bloco de instruções será executado, caso contrário, não.\n",
        "\n",
        "if condição :<p>\n",
        "*   declarações a serem executadas se\n",
        "*   condição é verdadeira"
      ],
      "metadata": {
        "id": "2EWBKzFq5Mn6"
      }
    },
    {
      "cell_type": "code",
      "source": [
        "# Condição se a pessoa tiver menor de 18 anos, ela nao no sistema.\n",
        "Idade = 20\n",
        "\n",
        "if Idade >= 18:\n",
        "  print('você é maior de idade!')"
      ],
      "metadata": {
        "id": "v6I8Jo7eO2qe"
      },
      "execution_count": null,
      "outputs": []
    },
    {
      "cell_type": "code",
      "source": [
        "# Condição IF + ELSE\n",
        "\n",
        "Idade = int( 15 )\n",
        "\n",
        "if Idade >= 18:\n",
        "  print('Você é de maior!')\n",
        "\n",
        "else:\n",
        "  print('Você é menor de Idade!!! gugudada')"
      ],
      "metadata": {
        "colab": {
          "base_uri": "https://localhost:8080/"
        },
        "id": "6CqbVOSfhZ9-",
        "outputId": "3ea74c10-9af1-496b-96e3-18272c2e6be6"
      },
      "execution_count": null,
      "outputs": [
        {
          "output_type": "stream",
          "name": "stdout",
          "text": [
            "Você é menor de Idade!!! gugudada\n"
          ]
        }
      ]
    },
    {
      "cell_type": "code",
      "source": [
        "# Condição IF + ELSE + ELIF\n",
        "\n",
        "Idade = int( 18 )\n",
        "\n",
        "if Idade > 18:\n",
        "  print('Você é de maior!')\n",
        "\n",
        "elif Idade == 18:\n",
        "  print('Opa! Welcome the jungle!!! ')\n",
        "\n",
        "elif Idade < 18 and Idade >= 14:\n",
        "  print(\"quase um adulto\")\n",
        "\n",
        "else:\n",
        "  print('Você é menor de Idade!!! gugudada')"
      ],
      "metadata": {
        "colab": {
          "base_uri": "https://localhost:8080/"
        },
        "id": "8GH-p-3ohcJZ",
        "outputId": "9cc50639-4989-41d6-c3e1-6c7b23ceef0a"
      },
      "execution_count": null,
      "outputs": [
        {
          "output_type": "stream",
          "name": "stdout",
          "text": [
            "Opa! Welcome the jungle!!! \n"
          ]
        }
      ]
    },
    {
      "cell_type": "markdown",
      "source": [
        "# **23º Estrutura de Loop FOR**\n",
        "O loop For do Python é usado para travessia seqüencial, ou seja, é usado para iterar sobre um iterável como string, tupla, lista, etc. Ele se enquadra na categoria de iteração definida . Iterações definidas significam que o número de repetições é especificado explicitamente com antecedência. <p>\n",
        "for variável in objeto:\n",
        "*   loop"
      ],
      "metadata": {
        "id": "FWJkAgDh5Yuu"
      }
    },
    {
      "cell_type": "code",
      "source": [
        "# For [ Loop ]\n",
        "for QualquerCoisaQueVoceQuiser in range(11):\n",
        "   print( QualquerCoisaQueVoceQuiser * 3 )"
      ],
      "metadata": {
        "colab": {
          "base_uri": "https://localhost:8080/"
        },
        "id": "PoyMU-STiRrp",
        "outputId": "d038ee80-a4c2-4394-ae67-5664c08bdd6c"
      },
      "execution_count": null,
      "outputs": [
        {
          "output_type": "stream",
          "name": "stdout",
          "text": [
            "0\n",
            "3\n",
            "6\n",
            "9\n",
            "12\n",
            "15\n",
            "18\n",
            "21\n",
            "24\n",
            "27\n",
            "30\n"
          ]
        }
      ]
    },
    {
      "cell_type": "code",
      "source": [
        "for QualquerCoisaQueVoceQuiser in range(1, 100, 5):\n",
        "   print( QualquerCoisaQueVoceQuiser)"
      ],
      "metadata": {
        "colab": {
          "base_uri": "https://localhost:8080/"
        },
        "id": "ixjsSFEasDFi",
        "outputId": "49a88938-92ec-4501-87f7-2e25ef48fca3"
      },
      "execution_count": null,
      "outputs": [
        {
          "output_type": "stream",
          "name": "stdout",
          "text": [
            "2\n",
            "7\n",
            "12\n",
            "17\n",
            "22\n",
            "27\n",
            "32\n",
            "37\n",
            "42\n",
            "47\n",
            "52\n",
            "57\n",
            "62\n",
            "67\n",
            "72\n",
            "77\n",
            "82\n",
            "87\n",
            "92\n",
            "97\n"
          ]
        }
      ]
    },
    {
      "cell_type": "code",
      "source": [
        "listafor = [\"brasil\", \"argentina\",\"uruguai\",\"paraguai\",\"bolivia\"]\n",
        "for QualquerCoisaQueVoceQuiser in listafor:\n",
        "  print(QualquerCoisaQueVoceQuiser.upper()[0:3])"
      ],
      "metadata": {
        "colab": {
          "base_uri": "https://localhost:8080/"
        },
        "id": "pqI9cGLbotWT",
        "outputId": "13841e1b-27dd-4617-cd4a-79ee67544da2"
      },
      "execution_count": null,
      "outputs": [
        {
          "output_type": "stream",
          "name": "stdout",
          "text": [
            "BRA\n",
            "ARG\n",
            "URU\n",
            "PAR\n",
            "BOL\n"
          ]
        }
      ]
    },
    {
      "cell_type": "code",
      "source": [
        "listafor = [\"brasil\", \"argentina\",\"uruguai\",\"paraguai\",\"bolivia\"]\n",
        "for pais in listafor:\n",
        "  if pais == \"uruguai\":\n",
        "    print(\"bi campeão da copa do mundo!\")\n",
        "    for algumacoisa in range(5):\n",
        "      print(algumacoisa)\n"
      ],
      "metadata": {
        "colab": {
          "base_uri": "https://localhost:8080/"
        },
        "id": "GYyLxbwezr0-",
        "outputId": "47dc9699-17fa-404e-b396-f93fbfccad11"
      },
      "execution_count": null,
      "outputs": [
        {
          "output_type": "stream",
          "name": "stdout",
          "text": [
            "bi campeão da copa do mundo!\n",
            "0\n",
            "1\n",
            "2\n",
            "3\n",
            "4\n"
          ]
        }
      ]
    },
    {
      "cell_type": "code",
      "source": [
        "for loop in range(0, len(listafor), 2):\n",
        "  print(listafor[loop])"
      ],
      "metadata": {
        "colab": {
          "base_uri": "https://localhost:8080/"
        },
        "id": "OSZJgQcC5_ls",
        "outputId": "7a2515dc-ed8f-4617-f5b8-b5ff0a2bd816"
      },
      "execution_count": null,
      "outputs": [
        {
          "output_type": "stream",
          "name": "stdout",
          "text": [
            "brasil\n",
            "uruguai\n",
            "bolivia\n"
          ]
        }
      ]
    },
    {
      "cell_type": "code",
      "source": [
        "# For + Lista + IF + enumerate\n",
        "for Posicao, Pais in enumerate( listafor ):\n",
        "  print( Posicao, Pais )\n",
        "\n",
        "# outro jeito\n",
        "\n",
        "x= 0\n",
        "for pais in listafor:\n",
        "  print(x, Pais,)\n",
        "  x+= 1"
      ],
      "metadata": {
        "colab": {
          "base_uri": "https://localhost:8080/"
        },
        "id": "m0D7-ttB6pxX",
        "outputId": "74ba7d5e-f065-4810-f940-f3e5ebb3df20"
      },
      "execution_count": null,
      "outputs": [
        {
          "output_type": "stream",
          "name": "stdout",
          "text": [
            "0 brasil\n",
            "1 argentina\n",
            "2 uruguai\n",
            "3 paraguai\n",
            "4 bolivia\n",
            "0 bolivia\n",
            "1 bolivia\n",
            "2 bolivia\n",
            "3 bolivia\n",
            "4 bolivia\n"
          ]
        }
      ]
    },
    {
      "cell_type": "code",
      "source": [
        "#for dentro de uma lista\n",
        "lista_for = [numero * 2 for numero in range(0,10,2)]\n",
        "print(lista_for)\n",
        "\n",
        "# outro jeito\n",
        "\n",
        "lista = []\n",
        "for loop in range(0,10,2):\n",
        "  lista.append(loop * 2)\n",
        "\n",
        "print(lista)"
      ],
      "metadata": {
        "colab": {
          "base_uri": "https://localhost:8080/"
        },
        "id": "DeF83jBO7Fhm",
        "outputId": "6d8e58f6-ae3b-4f21-e99d-b1d0979316d2"
      },
      "execution_count": null,
      "outputs": [
        {
          "output_type": "stream",
          "name": "stdout",
          "text": [
            "[0, 4, 8, 12, 16]\n",
            "[0, 4, 8, 12, 16]\n"
          ]
        }
      ]
    },
    {
      "cell_type": "markdown",
      "source": [
        "# **24º Estrutura de Loop WHILE**\n",
        "Python While Loop é usado para executar um bloco de instruções repetidamente até que uma determinada condição seja satisfeita. E quando a condição se torna falsa, a linha imediatamente após o loop no programa é executada. While loop se enquadra na categoria de iteração indefinida . A iteração indefinida significa que o número de vezes que o loop é executado não é especificado explicitamente com antecedência.<p>\n",
        "while expressão:\n",
        "*   loop"
      ],
      "metadata": {
        "id": "McBZi26I5dDs"
      }
    },
    {
      "cell_type": "code",
      "source": [
        "parar = 0\n",
        "\n",
        "while parar <= 10:\n",
        "  print(parar)\n",
        "  parar += 1"
      ],
      "metadata": {
        "colab": {
          "base_uri": "https://localhost:8080/"
        },
        "id": "HBUNGjr8-YUh",
        "outputId": "79aac35b-3d87-4933-ddeb-5d20bb3e19bb"
      },
      "execution_count": null,
      "outputs": [
        {
          "output_type": "stream",
          "name": "stdout",
          "text": [
            "0\n",
            "1\n",
            "2\n",
            "3\n",
            "4\n",
            "5\n",
            "6\n",
            "7\n",
            "8\n",
            "9\n",
            "10\n"
          ]
        }
      ]
    },
    {
      "cell_type": "markdown",
      "source": [
        "# **25º Estrutura de Quebra BREAK e CONTINUE**\n",
        "O uso de loops no Python automatiza e repete as tarefas de maneira eficiente. Mas, às vezes, pode surgir uma condição em que você deseja sair completamente do loop, pular uma iteração ou ignorar essa condição. Isso pode ser feito por instruções de controle de loop . As instruções de controle de loop alteram a execução de sua sequência normal. Quando a execução sai de um escopo, todos os objetos automáticos que foram criados nesse escopo são destruídos. Python suporta as seguintes instruções de controle."
      ],
      "metadata": {
        "id": "4YHFZqt45iFq"
      }
    },
    {
      "cell_type": "code",
      "source": [
        "import random\n",
        "\n",
        "while True:\n",
        "    eu = random.randint(0, 10)\n",
        "    contra_alguem = random.randint(0, 10)\n",
        "\n",
        "    print(\"Eu tirei o valor\", eu)\n",
        "    print(\"Vcs tiraram o valor\", contra_alguem)\n",
        "\n",
        "    if eu > contra_alguem:\n",
        "        print(\"Eu ganhei!!!\")\n",
        "        break\n",
        "\n",
        "    print(\"\\n\")\n"
      ],
      "metadata": {
        "colab": {
          "base_uri": "https://localhost:8080/"
        },
        "id": "dX1Bv4P9hIR6",
        "outputId": "b7dfe894-293d-4e48-efc5-580dea6b5dca"
      },
      "execution_count": null,
      "outputs": [
        {
          "output_type": "stream",
          "name": "stdout",
          "text": [
            "Eu tirei o valor 5\n",
            "Vcs tiraram o valor 4\n",
            "Eu ganhei!!!\n"
          ]
        }
      ]
    },
    {
      "cell_type": "code",
      "source": [
        "Lista_fruta = [\"morango\",\"banana\", \"uva\", \"abacaxi\"]\n",
        "\n",
        "for fruta in Lista_fruta:\n",
        "\n",
        "  print(fruta)\n",
        "\n",
        "  if fruta == \"uva\":\n",
        "    break"
      ],
      "metadata": {
        "colab": {
          "base_uri": "https://localhost:8080/"
        },
        "id": "SW-xXcPoiDoh",
        "outputId": "72f5bb5c-d314-4d3c-ae60-617147edccc3"
      },
      "execution_count": null,
      "outputs": [
        {
          "output_type": "stream",
          "name": "stdout",
          "text": [
            "morango\n",
            "banana\n",
            "uva\n"
          ]
        }
      ]
    },
    {
      "cell_type": "code",
      "source": [
        "for loop in range(0, 11):\n",
        "\n",
        "  if loop == 5:\n",
        "    continue\n",
        "    print(\"cheguei aqui mais vou ser ignorado\")\n",
        "  print(loop)"
      ],
      "metadata": {
        "colab": {
          "base_uri": "https://localhost:8080/"
        },
        "id": "wYIzojRUqbqA",
        "outputId": "b60b01b2-f998-4487-d7bf-427a1c47ef6d"
      },
      "execution_count": null,
      "outputs": [
        {
          "output_type": "stream",
          "name": "stdout",
          "text": [
            "0\n",
            "1\n",
            "2\n",
            "3\n",
            "4\n",
            "6\n",
            "7\n",
            "8\n",
            "9\n",
            "10\n"
          ]
        }
      ]
    },
    {
      "cell_type": "markdown",
      "source": [
        "# **26º Estrutura de Funções**\n",
        "Uma função é um bloco de código que só é executado quando é chamado.<p>\n",
        "Você pode passar dados, conhecidos como parâmetros, para uma função.<p>\n",
        "Uma função pode retornar dados como resultado."
      ],
      "metadata": {
        "id": "uJ7CPEMQ5ovh"
      }
    },
    {
      "cell_type": "code",
      "source": [
        "def Boas_Vindas():\n",
        "  print('********* PYTHON **************')\n",
        "\n",
        "Boas_Vindas()"
      ],
      "metadata": {
        "colab": {
          "base_uri": "https://localhost:8080/"
        },
        "id": "aNQ2WdToyY5m",
        "outputId": "789af9fc-f8a6-461c-aca3-0275aea4fad1"
      },
      "execution_count": null,
      "outputs": [
        {
          "output_type": "stream",
          "name": "stdout",
          "text": [
            "********* PYTHON **************\n"
          ]
        }
      ]
    },
    {
      "cell_type": "code",
      "source": [
        "# SOMA\n",
        "def Somar(valor_1, valor_2):\n",
        "  soma = (valor_1 + valor_2)\n",
        "  print(soma)"
      ],
      "metadata": {
        "id": "isVa08aTs5vR"
      },
      "execution_count": null,
      "outputs": []
    },
    {
      "cell_type": "code",
      "source": [
        "Somar(20, 20)"
      ],
      "metadata": {
        "colab": {
          "base_uri": "https://localhost:8080/"
        },
        "id": "57WawaUSt8uK",
        "outputId": "71a43477-18da-47fa-df91-a06366e5746f"
      },
      "execution_count": null,
      "outputs": [
        {
          "output_type": "stream",
          "name": "stdout",
          "text": [
            "40\n"
          ]
        }
      ]
    },
    {
      "cell_type": "code",
      "source": [],
      "metadata": {
        "colab": {
          "base_uri": "https://localhost:8080/"
        },
        "id": "cCi1XnJ-4Eh3",
        "outputId": "673948f5-c179-4881-809d-44b3d6a547c8"
      },
      "execution_count": null,
      "outputs": [
        {
          "output_type": "stream",
          "name": "stdout",
          "text": [
            "1\n",
            "None\n"
          ]
        }
      ]
    },
    {
      "cell_type": "markdown",
      "source": [
        "# **27º Estrutura Lambda**\n",
        "Uma função lambda é uma pequena função anônima.<p>\n",
        "Uma função lambda pode receber qualquer número de argumentos, mas pode ter apenas uma expressão."
      ],
      "metadata": {
        "id": "2kSg9UOv5xZe"
      }
    },
    {
      "cell_type": "code",
      "source": [
        "funcao_soma = lambda valor: valor + 10\n",
        "funcao_soma(1)"
      ],
      "metadata": {
        "colab": {
          "base_uri": "https://localhost:8080/"
        },
        "id": "nsbVvQ2h4r3f",
        "outputId": "fe355ca8-9c07-4f46-9b45-0375afeeefab"
      },
      "execution_count": null,
      "outputs": [
        {
          "output_type": "execute_result",
          "data": {
            "text/plain": [
              "11"
            ]
          },
          "metadata": {},
          "execution_count": 16
        }
      ]
    },
    {
      "cell_type": "code",
      "source": [
        "Funcao_02 = lambda valor1, valor2 : valor1 + valor2\n",
        "print( Funcao_02( 100 , 100 ) )"
      ],
      "metadata": {
        "colab": {
          "base_uri": "https://localhost:8080/"
        },
        "id": "GQmMhNg56lr5",
        "outputId": "debc9c37-4b59-4adf-ba86-7c905aa2fc38"
      },
      "execution_count": null,
      "outputs": [
        {
          "output_type": "stream",
          "name": "stdout",
          "text": [
            "200\n"
          ]
        }
      ]
    },
    {
      "cell_type": "markdown",
      "source": [
        "# **28º Estrutura TRY**\n",
        "O **try** permite testar um bloco de código quanto a erros.<p>\n",
        "O **except** permite que você lide com o erro.<p>\n",
        "O **else** permite executar código quando não há erro. <p>\n",
        "O **finally** permite que você execute código, independentemente do resultado dos blocos try e except. <p>"
      ],
      "metadata": {
        "id": "h9mITCUm5x2G"
      }
    },
    {
      "cell_type": "code",
      "source": [
        "#\n",
        "try:\n",
        "  0 / 0\n",
        "except:\n",
        "  print('Deu Ruim!!!')\n"
      ],
      "metadata": {
        "id": "rsJIAX3F7T3E"
      },
      "execution_count": null,
      "outputs": []
    },
    {
      "cell_type": "code",
      "source": [
        "try:\n",
        "  print(Algo_Coisa_Que_Nao_Defini)\n",
        "\n",
        "except NameError:\n",
        "  print(\"Ops deu algum erro!\")\n",
        "\n",
        "finally:\n",
        "  print(\"Vou ser executado de qualquer forma\")"
      ],
      "metadata": {
        "colab": {
          "base_uri": "https://localhost:8080/"
        },
        "id": "yNfJFAhh7eRZ",
        "outputId": "bf33ca4e-1722-4549-ae2b-6358403c67bb"
      },
      "execution_count": null,
      "outputs": [
        {
          "output_type": "stream",
          "name": "stdout",
          "text": [
            "Ops deu algum erro!\n",
            "Vou ser executado de qualquer forma\n"
          ]
        }
      ]
    },
    {
      "cell_type": "markdown",
      "source": [
        "# 29° Estrutura de Classes/Objetos\n",
        "Python é uma linguagem de programação orientada a objetos.<p>\n",
        "Quase tudo em Python é um objeto, com suas propriedades e métodos.<p>\n",
        "Uma classe é como um construtor de objetos, ou um \"projeto\" para criar objetos."
      ],
      "metadata": {
        "id": "I7ivsxyFtG2M"
      }
    },
    {
      "cell_type": "code",
      "source": [
        "class pessoa:\n",
        "\n",
        "# Metodo Construtor\n",
        "  def __init__(self, Nome, Idade):\n",
        "    self.Nome = Nome\n",
        "    self.Idade = Idade\n",
        "\n",
        "  def Boas_Vindas(self):\n",
        "    print('Olá sem benvindo: ', self.Nome)\n",
        "\n",
        "  def Recusado(self):\n",
        "    print('Seu acesso foi recusado!')\n",
        "\n",
        "  # Função\n",
        "  def Maior_Idade(self):\n",
        "    if self.Idade >= 18:\n",
        "      print('Usuário é maior de idade')\n",
        "      self.Boas_Vindas()\n",
        "    else:\n",
        "      print('Usuário é menor de Idade')\n",
        "      self.Recusado()"
      ],
      "metadata": {
        "id": "ZSRlD9H37oK9"
      },
      "execution_count": null,
      "outputs": []
    },
    {
      "cell_type": "code",
      "source": [
        "Dados = Pessoa('Odemir', 12)"
      ],
      "metadata": {
        "id": "qAmLsqED9FxO"
      },
      "execution_count": null,
      "outputs": []
    },
    {
      "cell_type": "code",
      "source": [
        "Dados.Maior_Idade()"
      ],
      "metadata": {
        "id": "wfljz6E59GWU"
      },
      "execution_count": null,
      "outputs": []
    },
    {
      "cell_type": "markdown",
      "source": [
        "# **30º Módulos/Pacotes**\n",
        "Considere um módulo como sendo o mesmo que uma biblioteca de código.<p>\n",
        "Para instalar um pacote utilize o 'pip install'"
      ],
      "metadata": {
        "id": "_ZoM-c-79MTY"
      }
    },
    {
      "cell_type": "code",
      "source": [
        "# !pip install pandas\n",
        "!pip install pandas"
      ],
      "metadata": {
        "colab": {
          "base_uri": "https://localhost:8080/"
        },
        "id": "vJx9uXBL9Qos",
        "outputId": "638fa590-45db-49fa-ab06-d85632ad2359"
      },
      "execution_count": null,
      "outputs": [
        {
          "output_type": "stream",
          "name": "stdout",
          "text": [
            "Requirement already satisfied: pandas in /usr/local/lib/python3.11/dist-packages (2.2.2)\n",
            "Requirement already satisfied: numpy>=1.23.2 in /usr/local/lib/python3.11/dist-packages (from pandas) (2.0.2)\n",
            "Requirement already satisfied: python-dateutil>=2.8.2 in /usr/local/lib/python3.11/dist-packages (from pandas) (2.9.0.post0)\n",
            "Requirement already satisfied: pytz>=2020.1 in /usr/local/lib/python3.11/dist-packages (from pandas) (2025.2)\n",
            "Requirement already satisfied: tzdata>=2022.7 in /usr/local/lib/python3.11/dist-packages (from pandas) (2025.2)\n",
            "Requirement already satisfied: six>=1.5 in /usr/local/lib/python3.11/dist-packages (from python-dateutil>=2.8.2->pandas) (1.17.0)\n"
          ]
        }
      ]
    },
    {
      "cell_type": "markdown",
      "source": [
        "# **30° Print formatado**\n",
        "Existe diversas formas de utilizar prints no python"
      ],
      "metadata": {
        "id": "CxAY7IxF5yab"
      }
    },
    {
      "cell_type": "code",
      "source": [
        "print (\"soma de 2 + 2 é: \", 2 + 2)"
      ],
      "metadata": {
        "colab": {
          "base_uri": "https://localhost:8080/"
        },
        "id": "KUS3x9pJ49Wa",
        "outputId": "20a660de-a424-4401-849f-f69ccebfe9dc"
      },
      "execution_count": null,
      "outputs": [
        {
          "output_type": "stream",
          "name": "stdout",
          "text": [
            "soma de 2 + 2 é:  4\n"
          ]
        }
      ]
    },
    {
      "cell_type": "code",
      "source": [
        "print (f\"soma de 2 + 2 é: { 2 + 2 }\")"
      ],
      "metadata": {
        "colab": {
          "base_uri": "https://localhost:8080/"
        },
        "id": "9zKheuVD6Rid",
        "outputId": "ae9dd563-d302-4590-ff23-65410fc6a044"
      },
      "execution_count": null,
      "outputs": [
        {
          "output_type": "stream",
          "name": "stdout",
          "text": [
            "soma de 2 + 2 é: 4\n"
          ]
        }
      ]
    },
    {
      "cell_type": "code",
      "source": [
        "print (\"soma de 2 + 2 é: {} \".format (2 + 2) )"
      ],
      "metadata": {
        "colab": {
          "base_uri": "https://localhost:8080/"
        },
        "id": "7vkIxbKg6onI",
        "outputId": "3be18659-cb44-44a9-ee6a-e500248a0d7c"
      },
      "execution_count": null,
      "outputs": [
        {
          "output_type": "stream",
          "name": "stdout",
          "text": [
            "soma de 2 + 2 é: 4 \n"
          ]
        }
      ]
    }
  ]
}